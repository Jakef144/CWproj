{
 "cells": [
  {
   "cell_type": "code",
   "execution_count": 4,
   "id": "2ffdd5a3-7710-41d9-9e70-a8a13b31da6a",
   "metadata": {},
   "outputs": [],
   "source": [
    "import os\n",
    "import pandas as pd\n",
    "\n",
    "# Ensure the directory exists\n",
    "output_dir = \"CWproj\"\n",
    "if not os.path.exists(output_dir):\n",
    "    os.makedirs(output_dir)\n",
    "\n",
    "# Data for sources and metrics\n",
    "data = {\n",
    "    \"Source\": [\n",
    "        \"Gallup\",\n",
    "        \"Social Science Journal\",\n",
    "        \"ResearchGate\",\n",
    "        \"Nectar HR\"\n",
    "    ],\n",
    "    \"Metric\": [\n",
    "        \"Employee Engagement\",\n",
    "        \"Employee Productivity\",\n",
    "        \"Employee Retention\",\n",
    "        \"Employee Motivation\"\n",
    "    ],\n",
    "    \"Statistic\": [\n",
    "        \"14% improvement in engagement with frequent recognition\",\n",
    "        \"14% improvement in productivity with frequent recognition\",\n",
    "        \"31% lower turnover rate in organizations with recognition programs\",\n",
    "        \"83% of employees report feeling motivated by frequent recognition\"\n",
    "    ],\n",
    "    \"Source Link\": [\n",
    "        \"https://www.gallup.com/workplace/236927/state-american-workplace-report-2017.aspx\",\n",
    "        \"https://www.socialsciencejournal.in/assets/archives/2019/vol5issue4/5-3-75-189.pdf\",\n",
    "        \"https://www.researchgate.net/publication/370710004_The_Impact_of_Employee_Recognition_Programs\",\n",
    "        \"https://nectarhr.com/blog/employee-recognition-statistics\"\n",
    "    ]\n",
    "}\n",
    "\n",
    "# Create a DataFrame\n",
    "df = pd.DataFrame(data)\n",
    "\n",
    "# Save the DataFrame to an Excel file\n",
    "file_path = os.path.join(output_dir, \"Sources_and_Metrics.xlsx\")\n",
    "df.to_excel(file_path, index=False)\n",
    "\n",
    "\n"
   ]
  }
 ],
 "metadata": {
  "kernelspec": {
   "display_name": "Python 3 (ipykernel)",
   "language": "python",
   "name": "python3"
  },
  "language_info": {
   "codemirror_mode": {
    "name": "ipython",
    "version": 3
   },
   "file_extension": ".py",
   "mimetype": "text/x-python",
   "name": "python",
   "nbconvert_exporter": "python",
   "pygments_lexer": "ipython3",
   "version": "3.12.4"
  }
 },
 "nbformat": 4,
 "nbformat_minor": 5
}
