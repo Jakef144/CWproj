{
 "cells": [
  {
   "cell_type": "code",
   "execution_count": 11,
   "id": "dd9d9464-1e05-46f2-ac7e-70f3362aeb0e",
   "metadata": {},
   "outputs": [],
   "source": [
    "# Re-importing libraries due to environment reset\n",
    "import matplotlib.pyplot as plt\n",
    "import numpy as np\n",
    "import os"
   ]
  },
  {
   "cell_type": "code",
   "execution_count": 5,
   "id": "fc3183d8-fe0a-487c-80d2-d1d6de6c8506",
   "metadata": {},
   "outputs": [
    {
     "ename": "ValueError",
     "evalue": "shape mismatch: objects cannot be broadcast to a single shape.  Mismatch is between arg 0 with shape (5,) and arg 1 with shape (4,).",
     "output_type": "error",
     "traceback": [
      "\u001b[1;31m---------------------------------------------------------------------------\u001b[0m",
      "\u001b[1;31mValueError\u001b[0m                                Traceback (most recent call last)",
      "Cell \u001b[1;32mIn[5], line 5\u001b[0m\n\u001b[0;32m      1\u001b[0m \u001b[38;5;66;03m# Add percentage labels to the stacked bar chart\u001b[39;00m\n\u001b[0;32m      2\u001b[0m \n\u001b[0;32m      3\u001b[0m \u001b[38;5;66;03m# Plot stacked bar chart\u001b[39;00m\n\u001b[0;32m      4\u001b[0m plt\u001b[38;5;241m.\u001b[39mfigure(figsize\u001b[38;5;241m=\u001b[39m(\u001b[38;5;241m10\u001b[39m, \u001b[38;5;241m6\u001b[39m))\n\u001b[1;32m----> 5\u001b[0m bars1 \u001b[38;5;241m=\u001b[39m plt\u001b[38;5;241m.\u001b[39mbar(x, tangible, width\u001b[38;5;241m=\u001b[39mbar_width, label\u001b[38;5;241m=\u001b[39m\u001b[38;5;124m\"\u001b[39m\u001b[38;5;124mTangible Rewards\u001b[39m\u001b[38;5;124m\"\u001b[39m, color\u001b[38;5;241m=\u001b[39m\u001b[38;5;124m\"\u001b[39m\u001b[38;5;124mskyblue\u001b[39m\u001b[38;5;124m\"\u001b[39m)\n\u001b[0;32m      6\u001b[0m bars2 \u001b[38;5;241m=\u001b[39m plt\u001b[38;5;241m.\u001b[39mbar(x, verbal, width\u001b[38;5;241m=\u001b[39mbar_width, label\u001b[38;5;241m=\u001b[39m\u001b[38;5;124m\"\u001b[39m\u001b[38;5;124mVerbal Praise\u001b[39m\u001b[38;5;124m\"\u001b[39m, bottom\u001b[38;5;241m=\u001b[39mtangible, color\u001b[38;5;241m=\u001b[39m\u001b[38;5;124m\"\u001b[39m\u001b[38;5;124mlightgreen\u001b[39m\u001b[38;5;124m\"\u001b[39m)\n\u001b[0;32m      7\u001b[0m bars3 \u001b[38;5;241m=\u001b[39m plt\u001b[38;5;241m.\u001b[39mbar(x, peer, width\u001b[38;5;241m=\u001b[39mbar_width, label\u001b[38;5;241m=\u001b[39m\u001b[38;5;124m\"\u001b[39m\u001b[38;5;124mPeer Recognition\u001b[39m\u001b[38;5;124m\"\u001b[39m, bottom\u001b[38;5;241m=\u001b[39mnp\u001b[38;5;241m.\u001b[39marray(tangible) \u001b[38;5;241m+\u001b[39m np\u001b[38;5;241m.\u001b[39marray(verbal), color\u001b[38;5;241m=\u001b[39m\u001b[38;5;124m\"\u001b[39m\u001b[38;5;124mcoral\u001b[39m\u001b[38;5;124m\"\u001b[39m)\n",
      "File \u001b[1;32m~\\anaconda3\\Lib\\site-packages\\matplotlib\\pyplot.py:2754\u001b[0m, in \u001b[0;36mbar\u001b[1;34m(x, height, width, bottom, align, data, **kwargs)\u001b[0m\n\u001b[0;32m   2743\u001b[0m \u001b[38;5;129m@_copy_docstring_and_deprecators\u001b[39m(Axes\u001b[38;5;241m.\u001b[39mbar)\n\u001b[0;32m   2744\u001b[0m \u001b[38;5;28;01mdef\u001b[39;00m \u001b[38;5;21mbar\u001b[39m(\n\u001b[0;32m   2745\u001b[0m     x: \u001b[38;5;28mfloat\u001b[39m \u001b[38;5;241m|\u001b[39m ArrayLike,\n\u001b[1;32m   (...)\u001b[0m\n\u001b[0;32m   2752\u001b[0m     \u001b[38;5;241m*\u001b[39m\u001b[38;5;241m*\u001b[39mkwargs,\n\u001b[0;32m   2753\u001b[0m ) \u001b[38;5;241m-\u001b[39m\u001b[38;5;241m>\u001b[39m BarContainer:\n\u001b[1;32m-> 2754\u001b[0m     \u001b[38;5;28;01mreturn\u001b[39;00m gca()\u001b[38;5;241m.\u001b[39mbar(\n\u001b[0;32m   2755\u001b[0m         x,\n\u001b[0;32m   2756\u001b[0m         height,\n\u001b[0;32m   2757\u001b[0m         width\u001b[38;5;241m=\u001b[39mwidth,\n\u001b[0;32m   2758\u001b[0m         bottom\u001b[38;5;241m=\u001b[39mbottom,\n\u001b[0;32m   2759\u001b[0m         align\u001b[38;5;241m=\u001b[39malign,\n\u001b[0;32m   2760\u001b[0m         \u001b[38;5;241m*\u001b[39m\u001b[38;5;241m*\u001b[39m({\u001b[38;5;124m\"\u001b[39m\u001b[38;5;124mdata\u001b[39m\u001b[38;5;124m\"\u001b[39m: data} \u001b[38;5;28;01mif\u001b[39;00m data \u001b[38;5;129;01mis\u001b[39;00m \u001b[38;5;129;01mnot\u001b[39;00m \u001b[38;5;28;01mNone\u001b[39;00m \u001b[38;5;28;01melse\u001b[39;00m {}),\n\u001b[0;32m   2761\u001b[0m         \u001b[38;5;241m*\u001b[39m\u001b[38;5;241m*\u001b[39mkwargs,\n\u001b[0;32m   2762\u001b[0m     )\n",
      "File \u001b[1;32m~\\anaconda3\\Lib\\site-packages\\matplotlib\\__init__.py:1465\u001b[0m, in \u001b[0;36m_preprocess_data.<locals>.inner\u001b[1;34m(ax, data, *args, **kwargs)\u001b[0m\n\u001b[0;32m   1462\u001b[0m \u001b[38;5;129m@functools\u001b[39m\u001b[38;5;241m.\u001b[39mwraps(func)\n\u001b[0;32m   1463\u001b[0m \u001b[38;5;28;01mdef\u001b[39;00m \u001b[38;5;21minner\u001b[39m(ax, \u001b[38;5;241m*\u001b[39margs, data\u001b[38;5;241m=\u001b[39m\u001b[38;5;28;01mNone\u001b[39;00m, \u001b[38;5;241m*\u001b[39m\u001b[38;5;241m*\u001b[39mkwargs):\n\u001b[0;32m   1464\u001b[0m     \u001b[38;5;28;01mif\u001b[39;00m data \u001b[38;5;129;01mis\u001b[39;00m \u001b[38;5;28;01mNone\u001b[39;00m:\n\u001b[1;32m-> 1465\u001b[0m         \u001b[38;5;28;01mreturn\u001b[39;00m func(ax, \u001b[38;5;241m*\u001b[39m\u001b[38;5;28mmap\u001b[39m(sanitize_sequence, args), \u001b[38;5;241m*\u001b[39m\u001b[38;5;241m*\u001b[39mkwargs)\n\u001b[0;32m   1467\u001b[0m     bound \u001b[38;5;241m=\u001b[39m new_sig\u001b[38;5;241m.\u001b[39mbind(ax, \u001b[38;5;241m*\u001b[39margs, \u001b[38;5;241m*\u001b[39m\u001b[38;5;241m*\u001b[39mkwargs)\n\u001b[0;32m   1468\u001b[0m     auto_label \u001b[38;5;241m=\u001b[39m (bound\u001b[38;5;241m.\u001b[39marguments\u001b[38;5;241m.\u001b[39mget(label_namer)\n\u001b[0;32m   1469\u001b[0m                   \u001b[38;5;129;01mor\u001b[39;00m bound\u001b[38;5;241m.\u001b[39mkwargs\u001b[38;5;241m.\u001b[39mget(label_namer))\n",
      "File \u001b[1;32m~\\anaconda3\\Lib\\site-packages\\matplotlib\\axes\\_axes.py:2461\u001b[0m, in \u001b[0;36mAxes.bar\u001b[1;34m(self, x, height, width, bottom, align, **kwargs)\u001b[0m\n\u001b[0;32m   2458\u001b[0m     \u001b[38;5;28;01mif\u001b[39;00m yerr \u001b[38;5;129;01mis\u001b[39;00m \u001b[38;5;129;01mnot\u001b[39;00m \u001b[38;5;28;01mNone\u001b[39;00m:\n\u001b[0;32m   2459\u001b[0m         yerr \u001b[38;5;241m=\u001b[39m \u001b[38;5;28mself\u001b[39m\u001b[38;5;241m.\u001b[39m_convert_dx(yerr, y0, y, \u001b[38;5;28mself\u001b[39m\u001b[38;5;241m.\u001b[39mconvert_yunits)\n\u001b[1;32m-> 2461\u001b[0m x, height, width, y, linewidth, hatch \u001b[38;5;241m=\u001b[39m np\u001b[38;5;241m.\u001b[39mbroadcast_arrays(\n\u001b[0;32m   2462\u001b[0m     \u001b[38;5;66;03m# Make args iterable too.\u001b[39;00m\n\u001b[0;32m   2463\u001b[0m     np\u001b[38;5;241m.\u001b[39matleast_1d(x), height, width, y, linewidth, hatch)\n\u001b[0;32m   2465\u001b[0m \u001b[38;5;66;03m# Now that units have been converted, set the tick locations.\u001b[39;00m\n\u001b[0;32m   2466\u001b[0m \u001b[38;5;28;01mif\u001b[39;00m orientation \u001b[38;5;241m==\u001b[39m \u001b[38;5;124m'\u001b[39m\u001b[38;5;124mvertical\u001b[39m\u001b[38;5;124m'\u001b[39m:\n",
      "File \u001b[1;32m~\\anaconda3\\Lib\\site-packages\\numpy\\lib\\stride_tricks.py:540\u001b[0m, in \u001b[0;36mbroadcast_arrays\u001b[1;34m(subok, *args)\u001b[0m\n\u001b[0;32m    533\u001b[0m \u001b[38;5;66;03m# nditer is not used here to avoid the limit of 32 arrays.\u001b[39;00m\n\u001b[0;32m    534\u001b[0m \u001b[38;5;66;03m# Otherwise, something like the following one-liner would suffice:\u001b[39;00m\n\u001b[0;32m    535\u001b[0m \u001b[38;5;66;03m# return np.nditer(args, flags=['multi_index', 'zerosize_ok'],\u001b[39;00m\n\u001b[0;32m    536\u001b[0m \u001b[38;5;66;03m#                  order='C').itviews\u001b[39;00m\n\u001b[0;32m    538\u001b[0m args \u001b[38;5;241m=\u001b[39m [np\u001b[38;5;241m.\u001b[39marray(_m, copy\u001b[38;5;241m=\u001b[39m\u001b[38;5;28;01mFalse\u001b[39;00m, subok\u001b[38;5;241m=\u001b[39msubok) \u001b[38;5;28;01mfor\u001b[39;00m _m \u001b[38;5;129;01min\u001b[39;00m args]\n\u001b[1;32m--> 540\u001b[0m shape \u001b[38;5;241m=\u001b[39m _broadcast_shape(\u001b[38;5;241m*\u001b[39margs)\n\u001b[0;32m    542\u001b[0m \u001b[38;5;28;01mif\u001b[39;00m \u001b[38;5;28mall\u001b[39m(array\u001b[38;5;241m.\u001b[39mshape \u001b[38;5;241m==\u001b[39m shape \u001b[38;5;28;01mfor\u001b[39;00m array \u001b[38;5;129;01min\u001b[39;00m args):\n\u001b[0;32m    543\u001b[0m     \u001b[38;5;66;03m# Common case where nothing needs to be broadcasted.\u001b[39;00m\n\u001b[0;32m    544\u001b[0m     \u001b[38;5;28;01mreturn\u001b[39;00m args\n",
      "File \u001b[1;32m~\\anaconda3\\Lib\\site-packages\\numpy\\lib\\stride_tricks.py:422\u001b[0m, in \u001b[0;36m_broadcast_shape\u001b[1;34m(*args)\u001b[0m\n\u001b[0;32m    417\u001b[0m \u001b[38;5;250m\u001b[39m\u001b[38;5;124;03m\"\"\"Returns the shape of the arrays that would result from broadcasting the\u001b[39;00m\n\u001b[0;32m    418\u001b[0m \u001b[38;5;124;03msupplied arrays against each other.\u001b[39;00m\n\u001b[0;32m    419\u001b[0m \u001b[38;5;124;03m\"\"\"\u001b[39;00m\n\u001b[0;32m    420\u001b[0m \u001b[38;5;66;03m# use the old-iterator because np.nditer does not handle size 0 arrays\u001b[39;00m\n\u001b[0;32m    421\u001b[0m \u001b[38;5;66;03m# consistently\u001b[39;00m\n\u001b[1;32m--> 422\u001b[0m b \u001b[38;5;241m=\u001b[39m np\u001b[38;5;241m.\u001b[39mbroadcast(\u001b[38;5;241m*\u001b[39margs[:\u001b[38;5;241m32\u001b[39m])\n\u001b[0;32m    423\u001b[0m \u001b[38;5;66;03m# unfortunately, it cannot handle 32 or more arguments directly\u001b[39;00m\n\u001b[0;32m    424\u001b[0m \u001b[38;5;28;01mfor\u001b[39;00m pos \u001b[38;5;129;01min\u001b[39;00m \u001b[38;5;28mrange\u001b[39m(\u001b[38;5;241m32\u001b[39m, \u001b[38;5;28mlen\u001b[39m(args), \u001b[38;5;241m31\u001b[39m):\n\u001b[0;32m    425\u001b[0m     \u001b[38;5;66;03m# ironically, np.broadcast does not properly handle np.broadcast\u001b[39;00m\n\u001b[0;32m    426\u001b[0m     \u001b[38;5;66;03m# objects (it treats them as scalars)\u001b[39;00m\n\u001b[0;32m    427\u001b[0m     \u001b[38;5;66;03m# use broadcasting to avoid allocating the full array\u001b[39;00m\n",
      "\u001b[1;31mValueError\u001b[0m: shape mismatch: objects cannot be broadcast to a single shape.  Mismatch is between arg 0 with shape (5,) and arg 1 with shape (4,)."
     ]
    },
    {
     "data": {
      "image/png": "[encoded data removed]",
      "text/plain": [
       "<Figure size 1000x600 with 1 Axes>"
      ]
     },
     "metadata": {},
     "output_type": "display_data"
    }
   ],
   "source": [
    "# Add percentage labels to the stacked bar chart\n",
    "\n",
    "# Plot stacked bar chart\n",
    "plt.figure(figsize=(10, 6))\n",
    "bars1 = plt.bar(x, tangible, width=bar_width, label=\"Tangible Rewards\", color=\"skyblue\")\n",
    "bars2 = plt.bar(x, verbal, width=bar_width, label=\"Verbal Praise\", bottom=tangible, color=\"lightgreen\")\n",
    "bars3 = plt.bar(x, peer, width=bar_width, label=\"Peer Recognition\", bottom=np.array(tangible) + np.array(verbal), color=\"coral\")\n",
    "\n",
    "# Add percentage labels to each bar\n",
    "for i in range(len(metrics)):\n",
    "    # Tangible Rewards\n",
    "    plt.text(x[i], tangible[i] / 2, f\"{tangible[i]}%\", ha='center', va='center', color=\"black\", fontsize=10)\n",
    "    # Verbal Praise\n",
    "    plt.text(x[i], tangible[i] + verbal[i] / 2, f\"{verbal[i]}%\", ha='center', va='center', color=\"black\", fontsize=10)\n",
    "    # Peer Recognition\n",
    "    plt.text(x[i], tangible[i] + verbal[i] + peer[i] / 2, f\"{peer[i]}%\", ha='center', va='center', color=\"black\", fontsize=10)\n",
    "\n",
    "# Add labels and title\n",
    "plt.xticks(x, metrics)\n",
    "plt.xlabel(\"Metrics\")\n",
    "plt.ylabel(\"Percentage Contribution\")\n",
    "plt.title(\"Weighted Contribution to Program Impact Across Metrics (with Percentages)\")\n",
    "plt.legend()\n",
    "\n",
    "# Display the chart\n",
    "plt.tight_layout()\n",
    "plt.show()\n"
   ]
  },
  {
   "cell_type": "code",
   "execution_count": 4,
   "id": "5ddfc4c6-ec83-4ea8-85bb-7e0e4531966d",
   "metadata": {},
   "outputs": [
    {
     "ename": "ValueError",
     "evalue": "shape mismatch: objects cannot be broadcast to a single shape.  Mismatch is between arg 0 with shape (5,) and arg 1 with shape (4,).",
     "output_type": "error",
     "traceback": [
      "\u001b[1;31m---------------------------------------------------------------------------\u001b[0m",
      "\u001b[1;31mValueError\u001b[0m                                Traceback (most recent call last)",
      "Cell \u001b[1;32mIn[4], line 17\u001b[0m\n\u001b[0;32m     15\u001b[0m \u001b[38;5;66;03m# Plot stacked bar chart\u001b[39;00m\n\u001b[0;32m     16\u001b[0m plt\u001b[38;5;241m.\u001b[39mfigure(figsize\u001b[38;5;241m=\u001b[39m(\u001b[38;5;241m10\u001b[39m, \u001b[38;5;241m6\u001b[39m))\n\u001b[1;32m---> 17\u001b[0m bars1 \u001b[38;5;241m=\u001b[39m plt\u001b[38;5;241m.\u001b[39mbar(x, tangible, width\u001b[38;5;241m=\u001b[39mbar_width, label\u001b[38;5;241m=\u001b[39m\u001b[38;5;124m\"\u001b[39m\u001b[38;5;124mTangible Rewards\u001b[39m\u001b[38;5;124m\"\u001b[39m, color\u001b[38;5;241m=\u001b[39m\u001b[38;5;124m\"\u001b[39m\u001b[38;5;124mskyblue\u001b[39m\u001b[38;5;124m\"\u001b[39m)\n\u001b[0;32m     18\u001b[0m bars2 \u001b[38;5;241m=\u001b[39m plt\u001b[38;5;241m.\u001b[39mbar(x, verbal, width\u001b[38;5;241m=\u001b[39mbar_width, label\u001b[38;5;241m=\u001b[39m\u001b[38;5;124m\"\u001b[39m\u001b[38;5;124mVerbal Praise\u001b[39m\u001b[38;5;124m\"\u001b[39m, bottom\u001b[38;5;241m=\u001b[39mtangible, color\u001b[38;5;241m=\u001b[39m\u001b[38;5;124m\"\u001b[39m\u001b[38;5;124mlightgreen\u001b[39m\u001b[38;5;124m\"\u001b[39m)\n\u001b[0;32m     19\u001b[0m bars3 \u001b[38;5;241m=\u001b[39m plt\u001b[38;5;241m.\u001b[39mbar(x, peer, width\u001b[38;5;241m=\u001b[39mbar_width, label\u001b[38;5;241m=\u001b[39m\u001b[38;5;124m\"\u001b[39m\u001b[38;5;124mPeer Recognition\u001b[39m\u001b[38;5;124m\"\u001b[39m, bottom\u001b[38;5;241m=\u001b[39mnp\u001b[38;5;241m.\u001b[39marray(tangible) \u001b[38;5;241m+\u001b[39m np\u001b[38;5;241m.\u001b[39marray(verbal), color\u001b[38;5;241m=\u001b[39m\u001b[38;5;124m\"\u001b[39m\u001b[38;5;124mcoral\u001b[39m\u001b[38;5;124m\"\u001b[39m)\n",
      "File \u001b[1;32m~\\anaconda3\\Lib\\site-packages\\matplotlib\\pyplot.py:2754\u001b[0m, in \u001b[0;36mbar\u001b[1;34m(x, height, width, bottom, align, data, **kwargs)\u001b[0m\n\u001b[0;32m   2743\u001b[0m \u001b[38;5;129m@_copy_docstring_and_deprecators\u001b[39m(Axes\u001b[38;5;241m.\u001b[39mbar)\n\u001b[0;32m   2744\u001b[0m \u001b[38;5;28;01mdef\u001b[39;00m \u001b[38;5;21mbar\u001b[39m(\n\u001b[0;32m   2745\u001b[0m     x: \u001b[38;5;28mfloat\u001b[39m \u001b[38;5;241m|\u001b[39m ArrayLike,\n\u001b[1;32m   (...)\u001b[0m\n\u001b[0;32m   2752\u001b[0m     \u001b[38;5;241m*\u001b[39m\u001b[38;5;241m*\u001b[39mkwargs,\n\u001b[0;32m   2753\u001b[0m ) \u001b[38;5;241m-\u001b[39m\u001b[38;5;241m>\u001b[39m BarContainer:\n\u001b[1;32m-> 2754\u001b[0m     \u001b[38;5;28;01mreturn\u001b[39;00m gca()\u001b[38;5;241m.\u001b[39mbar(\n\u001b[0;32m   2755\u001b[0m         x,\n\u001b[0;32m   2756\u001b[0m         height,\n\u001b[0;32m   2757\u001b[0m         width\u001b[38;5;241m=\u001b[39mwidth,\n\u001b[0;32m   2758\u001b[0m         bottom\u001b[38;5;241m=\u001b[39mbottom,\n\u001b[0;32m   2759\u001b[0m         align\u001b[38;5;241m=\u001b[39malign,\n\u001b[0;32m   2760\u001b[0m         \u001b[38;5;241m*\u001b[39m\u001b[38;5;241m*\u001b[39m({\u001b[38;5;124m\"\u001b[39m\u001b[38;5;124mdata\u001b[39m\u001b[38;5;124m\"\u001b[39m: data} \u001b[38;5;28;01mif\u001b[39;00m data \u001b[38;5;129;01mis\u001b[39;00m \u001b[38;5;129;01mnot\u001b[39;00m \u001b[38;5;28;01mNone\u001b[39;00m \u001b[38;5;28;01melse\u001b[39;00m {}),\n\u001b[0;32m   2761\u001b[0m         \u001b[38;5;241m*\u001b[39m\u001b[38;5;241m*\u001b[39mkwargs,\n\u001b[0;32m   2762\u001b[0m     )\n",
      "File \u001b[1;32m~\\anaconda3\\Lib\\site-packages\\matplotlib\\__init__.py:1465\u001b[0m, in \u001b[0;36m_preprocess_data.<locals>.inner\u001b[1;34m(ax, data, *args, **kwargs)\u001b[0m\n\u001b[0;32m   1462\u001b[0m \u001b[38;5;129m@functools\u001b[39m\u001b[38;5;241m.\u001b[39mwraps(func)\n\u001b[0;32m   1463\u001b[0m \u001b[38;5;28;01mdef\u001b[39;00m \u001b[38;5;21minner\u001b[39m(ax, \u001b[38;5;241m*\u001b[39margs, data\u001b[38;5;241m=\u001b[39m\u001b[38;5;28;01mNone\u001b[39;00m, \u001b[38;5;241m*\u001b[39m\u001b[38;5;241m*\u001b[39mkwargs):\n\u001b[0;32m   1464\u001b[0m     \u001b[38;5;28;01mif\u001b[39;00m data \u001b[38;5;129;01mis\u001b[39;00m \u001b[38;5;28;01mNone\u001b[39;00m:\n\u001b[1;32m-> 1465\u001b[0m         \u001b[38;5;28;01mreturn\u001b[39;00m func(ax, \u001b[38;5;241m*\u001b[39m\u001b[38;5;28mmap\u001b[39m(sanitize_sequence, args), \u001b[38;5;241m*\u001b[39m\u001b[38;5;241m*\u001b[39mkwargs)\n\u001b[0;32m   1467\u001b[0m     bound \u001b[38;5;241m=\u001b[39m new_sig\u001b[38;5;241m.\u001b[39mbind(ax, \u001b[38;5;241m*\u001b[39margs, \u001b[38;5;241m*\u001b[39m\u001b[38;5;241m*\u001b[39mkwargs)\n\u001b[0;32m   1468\u001b[0m     auto_label \u001b[38;5;241m=\u001b[39m (bound\u001b[38;5;241m.\u001b[39marguments\u001b[38;5;241m.\u001b[39mget(label_namer)\n\u001b[0;32m   1469\u001b[0m                   \u001b[38;5;129;01mor\u001b[39;00m bound\u001b[38;5;241m.\u001b[39mkwargs\u001b[38;5;241m.\u001b[39mget(label_namer))\n",
      "File \u001b[1;32m~\\anaconda3\\Lib\\site-packages\\matplotlib\\axes\\_axes.py:2461\u001b[0m, in \u001b[0;36mAxes.bar\u001b[1;34m(self, x, height, width, bottom, align, **kwargs)\u001b[0m\n\u001b[0;32m   2458\u001b[0m     \u001b[38;5;28;01mif\u001b[39;00m yerr \u001b[38;5;129;01mis\u001b[39;00m \u001b[38;5;129;01mnot\u001b[39;00m \u001b[38;5;28;01mNone\u001b[39;00m:\n\u001b[0;32m   2459\u001b[0m         yerr \u001b[38;5;241m=\u001b[39m \u001b[38;5;28mself\u001b[39m\u001b[38;5;241m.\u001b[39m_convert_dx(yerr, y0, y, \u001b[38;5;28mself\u001b[39m\u001b[38;5;241m.\u001b[39mconvert_yunits)\n\u001b[1;32m-> 2461\u001b[0m x, height, width, y, linewidth, hatch \u001b[38;5;241m=\u001b[39m np\u001b[38;5;241m.\u001b[39mbroadcast_arrays(\n\u001b[0;32m   2462\u001b[0m     \u001b[38;5;66;03m# Make args iterable too.\u001b[39;00m\n\u001b[0;32m   2463\u001b[0m     np\u001b[38;5;241m.\u001b[39matleast_1d(x), height, width, y, linewidth, hatch)\n\u001b[0;32m   2465\u001b[0m \u001b[38;5;66;03m# Now that units have been converted, set the tick locations.\u001b[39;00m\n\u001b[0;32m   2466\u001b[0m \u001b[38;5;28;01mif\u001b[39;00m orientation \u001b[38;5;241m==\u001b[39m \u001b[38;5;124m'\u001b[39m\u001b[38;5;124mvertical\u001b[39m\u001b[38;5;124m'\u001b[39m:\n",
      "File \u001b[1;32m~\\anaconda3\\Lib\\site-packages\\numpy\\lib\\stride_tricks.py:540\u001b[0m, in \u001b[0;36mbroadcast_arrays\u001b[1;34m(subok, *args)\u001b[0m\n\u001b[0;32m    533\u001b[0m \u001b[38;5;66;03m# nditer is not used here to avoid the limit of 32 arrays.\u001b[39;00m\n\u001b[0;32m    534\u001b[0m \u001b[38;5;66;03m# Otherwise, something like the following one-liner would suffice:\u001b[39;00m\n\u001b[0;32m    535\u001b[0m \u001b[38;5;66;03m# return np.nditer(args, flags=['multi_index', 'zerosize_ok'],\u001b[39;00m\n\u001b[0;32m    536\u001b[0m \u001b[38;5;66;03m#                  order='C').itviews\u001b[39;00m\n\u001b[0;32m    538\u001b[0m args \u001b[38;5;241m=\u001b[39m [np\u001b[38;5;241m.\u001b[39marray(_m, copy\u001b[38;5;241m=\u001b[39m\u001b[38;5;28;01mFalse\u001b[39;00m, subok\u001b[38;5;241m=\u001b[39msubok) \u001b[38;5;28;01mfor\u001b[39;00m _m \u001b[38;5;129;01min\u001b[39;00m args]\n\u001b[1;32m--> 540\u001b[0m shape \u001b[38;5;241m=\u001b[39m _broadcast_shape(\u001b[38;5;241m*\u001b[39margs)\n\u001b[0;32m    542\u001b[0m \u001b[38;5;28;01mif\u001b[39;00m \u001b[38;5;28mall\u001b[39m(array\u001b[38;5;241m.\u001b[39mshape \u001b[38;5;241m==\u001b[39m shape \u001b[38;5;28;01mfor\u001b[39;00m array \u001b[38;5;129;01min\u001b[39;00m args):\n\u001b[0;32m    543\u001b[0m     \u001b[38;5;66;03m# Common case where nothing needs to be broadcasted.\u001b[39;00m\n\u001b[0;32m    544\u001b[0m     \u001b[38;5;28;01mreturn\u001b[39;00m args\n",
      "File \u001b[1;32m~\\anaconda3\\Lib\\site-packages\\numpy\\lib\\stride_tricks.py:422\u001b[0m, in \u001b[0;36m_broadcast_shape\u001b[1;34m(*args)\u001b[0m\n\u001b[0;32m    417\u001b[0m \u001b[38;5;250m\u001b[39m\u001b[38;5;124;03m\"\"\"Returns the shape of the arrays that would result from broadcasting the\u001b[39;00m\n\u001b[0;32m    418\u001b[0m \u001b[38;5;124;03msupplied arrays against each other.\u001b[39;00m\n\u001b[0;32m    419\u001b[0m \u001b[38;5;124;03m\"\"\"\u001b[39;00m\n\u001b[0;32m    420\u001b[0m \u001b[38;5;66;03m# use the old-iterator because np.nditer does not handle size 0 arrays\u001b[39;00m\n\u001b[0;32m    421\u001b[0m \u001b[38;5;66;03m# consistently\u001b[39;00m\n\u001b[1;32m--> 422\u001b[0m b \u001b[38;5;241m=\u001b[39m np\u001b[38;5;241m.\u001b[39mbroadcast(\u001b[38;5;241m*\u001b[39margs[:\u001b[38;5;241m32\u001b[39m])\n\u001b[0;32m    423\u001b[0m \u001b[38;5;66;03m# unfortunately, it cannot handle 32 or more arguments directly\u001b[39;00m\n\u001b[0;32m    424\u001b[0m \u001b[38;5;28;01mfor\u001b[39;00m pos \u001b[38;5;129;01min\u001b[39;00m \u001b[38;5;28mrange\u001b[39m(\u001b[38;5;241m32\u001b[39m, \u001b[38;5;28mlen\u001b[39m(args), \u001b[38;5;241m31\u001b[39m):\n\u001b[0;32m    425\u001b[0m     \u001b[38;5;66;03m# ironically, np.broadcast does not properly handle np.broadcast\u001b[39;00m\n\u001b[0;32m    426\u001b[0m     \u001b[38;5;66;03m# objects (it treats them as scalars)\u001b[39;00m\n\u001b[0;32m    427\u001b[0m     \u001b[38;5;66;03m# use broadcasting to avoid allocating the full array\u001b[39;00m\n",
      "\u001b[1;31mValueError\u001b[0m: shape mismatch: objects cannot be broadcast to a single shape.  Mismatch is between arg 0 with shape (5,) and arg 1 with shape (4,)."
     ]
    },
    {
     "data": {
      "image/png": "[encoded data removed]",
      "text/plain": [
       "<Figure size 1000x600 with 1 Axes>"
      ]
     },
     "metadata": {},
     "output_type": "display_data"
    }
   ],
   "source": [
    "# Updated contributions with Management Recognition\n",
    "contributions = {\n",
    "    \"Tangible Rewards\": [15, 10, 5, 10],  # Tangible contributions to Engagement, Retention, etc.\n",
    "    \"Verbal Praise\": [10, 5, 5, 5],\n",
    "    \"Peer Recognition\": [10, 5, 5, 5],\n",
    "    \"Management Recognition\": [10, 15, 10, 10],  # New category\n",
    "}\n",
    "\n",
    "# Data preparation for stacked bar chart\n",
    "tangible = contributions[\"Tangible Rewards\"]\n",
    "verbal = contributions[\"Verbal Praise\"]\n",
    "peer = contributions[\"Peer Recognition\"]\n",
    "management = contributions[\"Management Recognition\"]\n",
    "\n",
    "# Plot stacked bar chart\n",
    "plt.figure(figsize=(10, 6))\n",
    "bars1 = plt.bar(x, tangible, width=bar_width, label=\"Tangible Rewards\", color=\"skyblue\")\n",
    "bars2 = plt.bar(x, verbal, width=bar_width, label=\"Verbal Praise\", bottom=tangible, color=\"lightgreen\")\n",
    "bars3 = plt.bar(x, peer, width=bar_width, label=\"Peer Recognition\", bottom=np.array(tangible) + np.array(verbal), color=\"coral\")\n",
    "bars4 = plt.bar(x, management, width=bar_width, label=\"Management Recognition\",\n",
    "                bottom=np.array(tangible) + np.array(verbal) + np.array(peer), color=\"gold\")\n",
    "\n",
    "# Add percentage labels\n",
    "for i in range(len(metrics)):\n",
    "    plt.text(x[i], tangible[i] / 2, f\"{tangible[i]}%\", ha='center', va='center', color=\"black\", fontsize=10)\n",
    "    plt.text(x[i], tangible[i] + verbal[i] / 2, f\"{verbal[i]}%\", ha='center', va='center', color=\"black\", fontsize=10)\n",
    "    plt.text(x[i], tangible[i] + verbal[i] + peer[i] / 2, f\"{peer[i]}%\", ha='center', va='center', color=\"black\", fontsize=10)\n",
    "    plt.text(x[i], tangible[i] + verbal[i] + peer[i] + management[i] / 2, f\"{management[i]}%\", ha='center', va='center', color=\"black\", fontsize=10)\n",
    "\n",
    "# Add labels and title\n",
    "plt.xticks(x, metrics)\n",
    "plt.xlabel(\"Metrics\")\n",
    "plt.ylabel(\"Percentage Contribution\")\n",
    "plt.title(\"Refined Weighted Contribution to Program Impact (Including Management Recognition)\")\n",
    "plt.legend()\n",
    "\n",
    "# Display the chart\n",
    "plt.tight_layout()\n",
    "plt.show()\n"
   ]
  },
  {
   "cell_type": "code",
   "execution_count": 3,
   "id": "fd457177-4320-42e8-b0bd-8c92f88a4d4b",
   "metadata": {},
   "outputs": [
    {
     "ename": "KeyError",
     "evalue": "'Engagement'",
     "output_type": "error",
     "traceback": [
      "\u001b[1;31m---------------------------------------------------------------------------\u001b[0m",
      "\u001b[1;31mKeyError\u001b[0m                                  Traceback (most recent call last)",
      "Cell \u001b[1;32mIn[3], line 18\u001b[0m\n\u001b[0;32m     16\u001b[0m bar_width \u001b[38;5;241m=\u001b[39m \u001b[38;5;241m0.5\u001b[39m\n\u001b[0;32m     17\u001b[0m x \u001b[38;5;241m=\u001b[39m np\u001b[38;5;241m.\u001b[39marange(\u001b[38;5;28mlen\u001b[39m(metrics))\n\u001b[1;32m---> 18\u001b[0m tangible \u001b[38;5;241m=\u001b[39m [updated_contributions[m][\u001b[38;5;241m0\u001b[39m] \u001b[38;5;28;01mfor\u001b[39;00m m \u001b[38;5;129;01min\u001b[39;00m metrics]\n\u001b[0;32m     19\u001b[0m verbal \u001b[38;5;241m=\u001b[39m [updated_contributions[m][\u001b[38;5;241m1\u001b[39m] \u001b[38;5;28;01mfor\u001b[39;00m m \u001b[38;5;129;01min\u001b[39;00m metrics]\n\u001b[0;32m     20\u001b[0m peer \u001b[38;5;241m=\u001b[39m [updated_contributions[m][\u001b[38;5;241m2\u001b[39m] \u001b[38;5;28;01mfor\u001b[39;00m m \u001b[38;5;129;01min\u001b[39;00m metrics]\n",
      "\u001b[1;31mKeyError\u001b[0m: 'Engagement'"
     ]
    }
   ],
   "source": [
    "# Integrating \"Employee Satisfaction\" and \"Workplace Culture\" into the data\n",
    "\n",
    "# Updated Metrics and Contributions\n",
    "metrics = [\"Engagement\", \"Retention\", \"Productivity\", \"Employee Satisfaction\", \"Workplace Culture\"]\n",
    "updated_contributions = {\n",
    "    \"Tangible Rewards\": [15, 10, 5, 10, 15],  # Tangible contributions to each metric\n",
    "    \"Verbal Praise\": [10, 5, 5, 10, 10],\n",
    "    \"Peer Recognition\": [10, 5, 5, 15, 5],\n",
    "    \"Management Recognition\": [5, 15, 10, 5, 15],\n",
    "}\n",
    "\n",
    "# Total predicted improvements for the new metrics\n",
    "total_improvements = [40, 35, 25, 30, 35]  # Updated predicted percentage improvements\n",
    "\n",
    "# Prepare data for updated stacked bar chart\n",
    "bar_width = 0.5\n",
    "x = np.arange(len(metrics))\n",
    "tangible = [updated_contributions[m][0] for m in metrics]\n",
    "verbal = [updated_contributions[m][1] for m in metrics]\n",
    "peer = [updated_contributions[m][2] for m in metrics]\n",
    "management = [updated_contributions[m][3] for m in metrics]\n",
    "\n",
    "# Plot updated stacked bar chart\n",
    "plt.figure(figsize=(12, 6))\n",
    "bars1 = plt.bar(x, tangible, width=bar_width, label=\"Tangible Rewards\", color=\"skyblue\")\n",
    "bars2 = plt.bar(x, verbal, width=bar_width, label=\"Verbal Praise\", bottom=tangible, color=\"lightgreen\")\n",
    "bars3 = plt.bar(x, peer, width=bar_width, label=\"Peer Recognition\", bottom=np.array(tangible) + np.array(verbal), color=\"coral\")\n",
    "bars4 = plt.bar(x, management, width=bar_width, label=\"Management Recognition\",\n",
    "                bottom=np.array(tangible) + np.array(verbal) + np.array(peer), color=\"gold\")\n",
    "\n",
    "# Add percentage labels\n",
    "for i in range(len(metrics)):\n",
    "    plt.text(x[i], tangible[i] / 2, f\"{tangible[i]}%\", ha='center', va='center', color=\"black\", fontsize=10)\n",
    "    plt.text(x[i], tangible[i] + verbal[i] / 2, f\"{verbal[i]}%\", ha='center', va='center', color=\"black\", fontsize=10)\n",
    "    plt.text(x[i], tangible[i] + verbal[i] + peer[i] / 2, f\"{peer[i]}%\", ha='center', va='center', color=\"black\", fontsize=10)\n",
    "    plt.text(x[i], tangible[i] + verbal[i] + peer[i] + management[i] / 2, f\"{management[i]}%\", ha='center', va='center', color=\"black\", fontsize=10)\n",
    "\n",
    "# Add labels and title\n",
    "plt.xticks(x, metrics)\n",
    "plt.xlabel(\"Metrics\")\n",
    "plt.ylabel(\"Percentage Contribution\")\n",
    "plt.title(\"Impact of Recognition Programs on Updated Workplace Metrics\")\n",
    "plt.legend()\n",
    "\n",
    "# Save and show the updated chart\n",
    "plt.tight_layout()\n",
    "updated_image_path = \"/mnt/data/updated_recognition_metrics_chart.png\"\n",
    "plt.savefig(updated_image_path, dpi=300)\n",
    "plt.show()\n",
    "\n",
    "# Output image path for reference\n",
    "updated_image_path\n"
   ]
  },
  {
   "cell_type": "code",
   "execution_count": 12,
   "id": "7228eabe-0ee8-41c4-96e7-7b5602ff8d49",
   "metadata": {},
   "outputs": [
    {
     "name": "stdout",
     "output_type": "stream",
     "text": [
      "Graph saved to: CWproj/Img\\recognition_program_impact.png\n"
     ]
    }
   ],
   "source": [
    "# Recreating the initial chart with the original metrics and contributions\n",
    "# Metrics and contributions for the original chart\n",
    "metrics = [\"Engagement\", \"Retention\", \"Productivity\", \"Employee Satisfaction\", \"Workplace Culture\"]\n",
    "original_contributions = {\n",
    "    \"Tangible Rewards\": [15, 10, 5, 10, 15],  # Tangible contributions to each metric\n",
    "    \"Verbal Praise\": [10, 5, 5, 10, 10],\n",
    "    \"Peer Recognition\": [10, 5, 5, 15, 5],\n",
    "    \"Management Recognition\": [5, 15, 10, 5, 15],\n",
    "}\n",
    "#output path\n",
    "output_directory = \"CWproj/Img\"\n",
    "os.makedirs(output_directory, exist_ok=True)\n",
    "output_path = os.path.join(output_directory, \"recognition_program_impact.png\")\n",
    "# Total predicted improvements for the original metrics\n",
    "original_total_improvements = [40, 35, 25, 30, 35]\n",
    "\n",
    "# Prepare data for the original stacked bar chart\n",
    "bar_width = 0.5\n",
    "x = np.arange(len(metrics))\n",
    "tangible = [original_contributions[\"Tangible Rewards\"][i] for i in range(len(metrics))]\n",
    "verbal = [original_contributions[\"Verbal Praise\"][i] for i in range(len(metrics))]\n",
    "peer = [original_contributions[\"Peer Recognition\"][i] for i in range(len(metrics))]\n",
    "management = [original_contributions[\"Management Recognition\"][i] for i in range(len(metrics))]\n",
    "\n",
    "# Plot original stacked bar chart\n",
    "plt.figure(figsize=(12, 6))\n",
    "bars1 = plt.bar(x, tangible, width=bar_width, label=\"Tangible Rewards\", color=\"skyblue\")\n",
    "bars2 = plt.bar(x, verbal, width=bar_width, label=\"Verbal Praise\", bottom=tangible, color=\"lightgreen\")\n",
    "bars3 = plt.bar(x, peer, width=bar_width, label=\"Peer Recognition\", bottom=np.array(tangible) + np.array(verbal), color=\"coral\")\n",
    "bars4 = plt.bar(x, management, width=bar_width, label=\"Management Recognition\",\n",
    "                bottom=np.array(tangible) + np.array(verbal) + np.array(peer), color=\"gold\")\n",
    "\n",
    "# Add percentage labels\n",
    "for i in range(len(metrics)):\n",
    "    plt.text(x[i], tangible[i] / 2, f\"{tangible[i]}%\", ha='center', va='center', color=\"black\", fontsize=10)\n",
    "    plt.text(x[i], tangible[i] + verbal[i] / 2, f\"{verbal[i]}%\", ha='center', va='center', color=\"black\", fontsize=10)\n",
    "    plt.text(x[i], tangible[i] + verbal[i] + peer[i] / 2, f\"{peer[i]}%\", ha='center', va='center', color=\"black\", fontsize=10)\n",
    "    plt.text(x[i], tangible[i] + verbal[i] + peer[i] + management[i] / 2, f\"{management[i]}%\", ha='center', va='center', color=\"black\", fontsize=10)\n",
    "\n",
    "# Add labels and title\n",
    "plt.xticks(x, metrics)\n",
    "plt.xlabel(\"Metrics\")\n",
    "plt.ylabel(\"Percentage Contribution\")\n",
    "plt.title(\"Impact of Recognition Programs on Workplace Metrics (Original Chart)\")\n",
    "plt.legend()\n",
    "\n",
    "# Save and show the original chart\n",
    "plt.tight_layout()\n",
    "plt.savefig(output_path)\n",
    "plt.close()\n",
    "\n",
    "print(f\"Graph saved to: {output_path}\")\n"
   ]
  }
 ],
 "metadata": {
  "kernelspec": {
   "display_name": "Python 3 (ipykernel)",
   "language": "python",
   "name": "python3"
  },
  "language_info": {
   "codemirror_mode": {
    "name": "ipython",
    "version": 3
   },
   "file_extension": ".py",
   "mimetype": "text/x-python",
   "name": "python",
   "nbconvert_exporter": "python",
   "pygments_lexer": "ipython3",
   "version": "3.12.4"
  }
 },
 "nbformat": 4,
 "nbformat_minor": 5
}
